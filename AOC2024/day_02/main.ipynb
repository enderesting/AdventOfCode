{
 "cells": [
  {
   "cell_type": "code",
   "execution_count": 8,
   "metadata": {},
   "outputs": [],
   "source": [
    "with open('input.txt', 'r') as file:\n",
    "    input = file.read()\n",
    "\n",
    "import re\n",
    "\n",
    "test_input = \"\"\"\\\n",
    "7 6 4 2 1\n",
    "1 2 7 8 9\n",
    "9 7 6 2 1\n",
    "1 3 2 4 5\n",
    "8 6 4 4 1\n",
    "1 3 6 7 9\n",
    "\"\"\""
   ]
  },
  {
   "cell_type": "code",
   "execution_count": 63,
   "metadata": {},
   "outputs": [
    {
     "name": "stdout",
     "output_type": "stream",
     "text": [
      "2\n",
      "631\n"
     ]
    }
   ],
   "source": [
    "def check_safety(txt):\n",
    "    inputlist = txt.splitlines()\n",
    "    counter = 0\n",
    "    # print(txt)\n",
    "\n",
    "    for line in inputlist:\n",
    "        line = [int(x) for x in line.split(\" \")]\n",
    "        # print(line)\n",
    "\n",
    "        increasing = False\n",
    "        decreasing = False\n",
    "        safe = False\n",
    "        if line[0] - line[1] > 0:\n",
    "            decreasing = True\n",
    "            safe = True\n",
    "        if line[0] - line[1] < 0:\n",
    "            increasing = True\n",
    "            safe = True\n",
    "        for i in range(len(line)-1):\n",
    "            if increasing and (line[i+1] - line[i] < 1 or line[i+1] - line[i] > 3):\n",
    "                safe = False\n",
    "                # print(line)\n",
    "                break\n",
    "            if decreasing and (line[i] - line[i+1] < 1 or line[i] - line[i+1] > 3):\n",
    "                safe = False\n",
    "                # print(line)\n",
    "                tolerance = False\n",
    "                break\n",
    "        \n",
    "        if safe is True : counter += 1\n",
    "\n",
    "    print(counter) \n",
    "    \n",
    "\n",
    "check_safety(test_input)\n",
    "check_safety(input)\n"
   ]
  },
  {
   "cell_type": "code",
   "execution_count": 135,
   "metadata": {},
   "outputs": [
    {
     "name": "stdout",
     "output_type": "stream",
     "text": [
      "[True, True, True, True, True, False, False, False, False, True, False, False, False, False, False, False, False, False, False, False, False, False, False, False, True, False, False, False, False, False, False, False, False, False, False, False, False, False, False, False, False, False, False, False, False, False, False, False, False, False, False, False, False, False, False, False, False, False, False, False, False, False, False, False, False, False, False, False, False, False, False, False, False, False, True, False, False, False, False, False, False, False, False, False, False, False, False, False, False, False, False, False, False, False, False, False, False, False, False, True, False, False, False, False, False, False, False, False, False, False, False, False, False, False, False, False, False, False, False, False, False, False, False, False, True, True, True, True, True, False, False, True, False, True, False, False, False, False, False, True, False, False, False, False, False, False, False, False, True, False, False, False, False, False, False, False, False, False, False, False, False, False, False, True, False, False, False, False, False, False, False, False, False, False, False, False, False, False, False, False, False, False, False, False, False, False, False, False, False, False, False, False, False, False, False, False, False, False, True, False, False, False, False, False, False, False, False, False, False, False, False, False, False, False, False, False, False, False, False, False, False, False, False, True, False, False, False, False, False, False, False, False, False, False, False, False, False, False, False, False, False, False, False, False, False, False, False, False, False, False, True, False, False, False, False, False, False, False, False, False, False, False, False, False, False, True, False, False, False, False, False, False, False, False, False, False, False, False, True, False, False, False, False, False, False, False, False, False, False, False, False, False, False, False, False, False, False, False, False, True, False, False, False, False, True, False, False, False, False, False, True, False, False, False, False, False, False, False, True, False, False, False, True, False, False, True, False, False, False, False, False, False, False, False, False, True, False, False, False, False, False, False, False, False, False, False, False, False, False, False, False, False, False, False, False, False, False, False, True, False, False, False, False, False, False, False, False, False, False, True, True, True, True, True, True, True, True, True, True, True, True, True, True, True, True, True, True, True, True, True, True, True, True, True, True, True, True, True, True, True, True, True, True, True, True, True, True, True, True, True, True, True, True, True, True, True, True, True, True, True, True, True, True, True, True, True, True, True, True, True, True, True, True, True, True, True, True, True, True, True, True, True, True, True, True, True, True, True, True, True, True, True, True, True, True, True, True, True, True, True, True, True, True, True, True, True, True, True, True, True, True, True, True, True, True, True, True, True, True, True, True, True, True, True, True, True, True, True, True, True, True, True, True, True, True, True, True, True, True, True, True, True, True, True, True, True, True, True, True, True, True, True, True, True, True, True, True, True, True, True, True, True, True, True, True, True, True, True, True, True, True, True, True, True, True, True, True, True, True, True, True, True, True, True, True, True, True, True, True, True, True, True, True, True, True, True, True, True, True, True, True, True, True, True, True, True, True, True, True, True, True, True, True, True, True, True, True, True, True, True, True, True, True, True, True, True, True, True, True, True, True, True, True, True, True, True, True, True, True, True, True, True, True, True, True, True, True, True, True, True, True, True, True, True, True, True, True, True, True, True, True, True, True, True, True, True, True, True, True, True, True, True, True, True, True, True, True, True, True, True, True, True, True, True, True, True, True, True, True, True, True, True, True, True, True, True, True, True, True, True, True, True, True, True, True, True, True, True, True, True, True, True, True, True, True, True, True, True, True, True, True, True, True, True, True, True, True, True, True, True, True, True, True, True, True, True, True, True, True, True, True, True, True, True, True, True, True, True, True, True, True, True, True, True, True, True, True, True, True, True, True, True, True, True, True, True, True, True, True, True, True, True, True, True, True, True, True, True, True, True, True, True, True, True, True, True, True, True, True, True, True, True, True, True, True, True, True, True, True, True, True, True, True, True, True, True, True, True, True, True, True, True, True, True, True, True, True, True, True, True, True, True, True, True, True, True, True, True, True, True, True, True, True, True, True, True, True, True, True, True, True, True, True, True, True, True, True, True, True, True, True, True, True, True, True, True, True, True, True, True, True, True, True, True, True, True, True, True, True, True, True, True, True, True, True, True, True, True, True, True, True, True, True, True, True, True, True, True, True, True, True, True, True, True, True, True, True, True, True, True, True, True, True, True, True, True, True, True, True, True, True, True, True, True, True, True, True, True, True, True, True, True, True, True, True, True, True, True, True, True, True, True, True, True, True, True, True, True, True, True, True, True, True, True, True, True, True, True, True, True, True, True, True, True, True, True, True, True, True, True, True, True, True, True, True, True, True, True, True, True, True, True, True, True, True, True, True, True, True, True, True, True, True, True, True, True, True, True, True, True, True, True, True, True, True, True, True, True, True, True, True, True, True, True, True, True, True, True, True, True, True, True, True, True, True, True, True, True, True, True, True, True, True, True, True, True, True, True, True, True, True, True, True, True, True, True, True, True, True, True]\n"
     ]
    }
   ],
   "source": [
    "def check_safety(txt):\n",
    "    inputlist = txt.splitlines()\n",
    "    # counter = 0\n",
    "    results = []\n",
    "    # print(txt)\n",
    "\n",
    "    for line in inputlist:\n",
    "        line = [int(x) for x in line.split(\" \")]\n",
    "        # print(line)\n",
    "        # validity =  check_line(line)\n",
    "        # if check_line(line) is True: counter += 1\n",
    "        results.append(check_line(line))\n",
    "    return results\n",
    "    # print(results.count(True))\n",
    "\n",
    "def check_line(line, tolerance=True):\n",
    "    increasing = False\n",
    "    decreasing = False\n",
    "    safe = False\n",
    "    if line[0] - line[1] > 0:\n",
    "        decreasing = True\n",
    "        safe = True\n",
    "    if line[0] - line[1] < 0:\n",
    "        increasing = True\n",
    "        safe = True\n",
    "    \n",
    "    \n",
    "    for i in range(len(line)-1):\n",
    "        if increasing and (line[i+1] - line[i] < 1 or line[i+1] - line[i] > 3):\n",
    "            if tolerance is True:\n",
    "                options = [line[0:i]+line[i+1:] for i in range(len(line))]\n",
    "                validity = any(check_line(option,False) for option in options)\n",
    "                return validity\n",
    "            safe = False\n",
    "            # print(line)\n",
    "            return False\n",
    "        if decreasing and (line[i] - line[i+1] < 1 or line[i] - line[i+1] > 3):\n",
    "            if tolerance is True:\n",
    "                options = [line[0:i]+line[i+1:] for i in range(len(line))]\n",
    "                validity = any(check_line(option,False) for option in options)\n",
    "                return validity\n",
    "            safe = False\n",
    "            # print(line)\n",
    "            tolerance = False\n",
    "            return False\n",
    "    return safe\n",
    "    \n",
    "\n",
    "check_safety(test_input)\n",
    "result = check_safety(input)\n",
    "print(result)\n"
   ]
  },
  {
   "cell_type": "code",
   "execution_count": 156,
   "metadata": {},
   "outputs": [
    {
     "name": "stdout",
     "output_type": "stream",
     "text": [
      "631\n",
      "665\n"
     ]
    }
   ],
   "source": [
    "# code from: light_ln2 \n",
    "# https://www.reddit.com/r/adventofcode/comments/1h4ncyr/comment/lzzziij/?utm_source=share&utm_medium=web3x&utm_name=web3xcss&utm_term=1&utm_content=share_button\n",
    "reports = [[int(x) for x in line.split()] for line in open('input.txt').readlines()]\n",
    "\n",
    "def safe(line):\n",
    "    diffs = [y-x for x,y in zip(line, line[1:])]\n",
    "    return all(1 <= x <= 3 for x in diffs) or all(1 <= -x <= 3 for x in diffs)\n",
    "\n",
    "def safe2(report):\n",
    "    options = [report[0:i] + report[i+1:] for i in range(len(report))]\n",
    "    return any(safe(report) for report in options)\n",
    "print(sum(safe(report) for report in reports))\n",
    "print(sum(safe2(report) for report in reports))\n"
   ]
  },
  {
   "cell_type": "code",
   "execution_count": 130,
   "metadata": {},
   "outputs": [
    {
     "name": "stdout",
     "output_type": "stream",
     "text": [
      "1000\n",
      "[49, 173]\n",
      "[59, 59, 62, 64, 65, 67]\n",
      "False\n"
     ]
    }
   ],
   "source": [
    "print(len(result))\n",
    "\n",
    "index_list = [i for i in range(len(result)) if result[i]!= result2[i]]\n",
    "print(index_list)\n",
    "\n",
    "\n",
    "xs= [[int(x) for x in line.split()]for line in input.splitlines()]\n",
    "print(xs[49])\n",
    "print(check_line(xs[49]))\n"
   ]
  },
  {
   "cell_type": "markdown",
   "metadata": {},
   "source": [
    "What went wrong??\n",
    "`[59, 59, 62, 64, 65, 67]` begins with two numbers of equal values which is entire rejected in my own function."
   ]
  },
  {
   "cell_type": "markdown",
   "metadata": {},
   "source": [
    "breakdown method:\n",
    "1. zip every line with [1:]\n",
    "2. calculate difference\n",
    "3. safe if monotonic/within range\n",
    "4. part 2: calculate all options dropping one. if any of these passed the list, it also is safe"
   ]
  },
  {
   "cell_type": "code",
   "execution_count": 158,
   "metadata": {},
   "outputs": [
    {
     "name": "stdout",
     "output_type": "stream",
     "text": [
      "[(1, 2), (2, 3)]\n",
      "631\n",
      "665\n"
     ]
    }
   ],
   "source": [
    "# attempt 2. i call this the \"learning how to draw\" method\n",
    "\n",
    "x = [1,2,3]\n",
    "res = list(zip(x,x[1:]))\n",
    "print(res)\n",
    "\n",
    "test_reports = [[int(x)for x in line.split()] for line in test_input.splitlines()]\n",
    "reports = [[int(x) for x in line.split()] for line in open('input.txt').readlines()]\n",
    "\n",
    "# given a report line, check if safe or not\n",
    "def check_safe(report):\n",
    "    differences = list(zip(report, report[1:]))\n",
    "    # print(differences)\n",
    "    diffs = [x-y for (x,y) in differences]\n",
    "    # print(diffs)\n",
    "    return all([ 1 <= x <= 3 for x in diffs]) or all([ 1 <= -x <= 3 for x in diffs])\n",
    "\n",
    "# given a report line, check if dropping any item turns it safe or not\n",
    "def check_with_tolerance(report):\n",
    "    # check if... getting rid of one in every line\n",
    "    drop_one = [report[:i] + report[i+1:] for i in range(len(report))]\n",
    "    # print(drop_one)\n",
    "    return any(check_safe(one) for one in drop_one)\n",
    "\n",
    "\n",
    "print([check_safe(r) for r in reports].count(True))\n",
    "print([check_with_tolerance(r) for r in reports].count(True))\n",
    "\n"
   ]
  },
  {
   "cell_type": "markdown",
   "metadata": {},
   "source": [
    "takeaways:\n",
    "- use list comprehension more!! this was one of haskell's strength and thinking in this way makes puzzles easier.\n",
    "- stop ONLY thinking in loops....."
   ]
  }
 ],
 "metadata": {
  "kernelspec": {
   "display_name": "base",
   "language": "python",
   "name": "python3"
  },
  "language_info": {
   "codemirror_mode": {
    "name": "ipython",
    "version": 3
   },
   "file_extension": ".py",
   "mimetype": "text/x-python",
   "name": "python",
   "nbconvert_exporter": "python",
   "pygments_lexer": "ipython3",
   "version": "3.11.7"
  }
 },
 "nbformat": 4,
 "nbformat_minor": 2
}
