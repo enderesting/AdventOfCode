{
 "cells": [
  {
   "cell_type": "code",
   "execution_count": 4,
   "metadata": {},
   "outputs": [],
   "source": [
    "from enum import Enum\n",
    "import itertools as it\n",
    "import copy\n",
    "from multiprocessing import Pool, cpu_count\n",
    "\n",
    "with open('input.txt', 'r') as file:\n",
    "    input = file.read()\n",
    "\n",
    "test_input = \"\"\"\\\n",
    "190: 10 19\n",
    "3267: 81 40 27\n",
    "83: 17 5\n",
    "156: 15 6\n",
    "7290: 6 8 6 15\n",
    "161011: 16 10 13\n",
    "192: 17 8 14\n",
    "21037: 9 7 18 13\n",
    "292: 11 6 16 20\n",
    "\"\"\""
   ]
  },
  {
   "cell_type": "code",
   "execution_count": 54,
   "metadata": {},
   "outputs": [
    {
     "data": {
      "text/plain": [
       "3749"
      ]
     },
     "execution_count": 54,
     "metadata": {},
     "output_type": "execute_result"
    }
   ],
   "source": [
    "\n",
    "class ElephantPlay():\n",
    "    def __init__(self,txt):\n",
    "        self.equations = [(int(row.split(\":\")[0]),\n",
    "                          [x for x in row.split(\": \")[1].split(\" \")]\n",
    "                          ) for row in txt.splitlines()]\n",
    "        self.operators = [\"+\",\"*\"]\n",
    "\n",
    "    def build_nested_eq(self,values,operators):\n",
    "        if len(values) == 1: return values[0] # base recursion\n",
    "        else: # recursively call this function until we reach base\n",
    "            inner_formula = f\"({values[0]}{operators[0]}{values[1]})\"\n",
    "            return self.build_nested_eq([inner_formula] + values[2:],operators[1:])\n",
    "\n",
    "    def check_eqs(self,eq):\n",
    "        c = 0\n",
    "        for answer, values in self.equations:\n",
    "            for opers in it.product(self.operators,repeat=len(values)-1):\n",
    "                # print(opers)\n",
    "                formula = self.build_nested_eq(values,opers) #\"\".join(o+v for o,v in zip([\"\"]+list(opers),values))\n",
    "                # print(formula)\n",
    "                if eval(formula) == answer:\n",
    "                    # print(answer)\n",
    "                    c+=answer\n",
    "                    break\n",
    "        return c\n",
    "\n",
    "res = ElephantPlay(test_input)\n",
    "res.check_eqs(res.equations[0])"
   ]
  },
  {
   "cell_type": "markdown",
   "metadata": {},
   "source": [
    "### Part 2\n",
    "Struggled for a bit because I didn't want to re-write the eval logic. Then I realized we are all better if I did even though I really liked my previous recursive method. Oh well"
   ]
  },
  {
   "cell_type": "code",
   "execution_count": 13,
   "metadata": {},
   "outputs": [
    {
     "data": {
      "text/plain": [
       "11387"
      ]
     },
     "execution_count": 13,
     "metadata": {},
     "output_type": "execute_result"
    }
   ],
   "source": [
    "\n",
    "class ElephantPlay():\n",
    "    def __init__(self,txt):\n",
    "        self.equations = [(int(row.split(\":\")[0]),\n",
    "                          [x for x in row.split(\": \")[1].split(\" \")]\n",
    "                          ) for row in txt.splitlines()]\n",
    "        self.operators = [\"+\",\"*\",\"||\"]\n",
    "\n",
    "    def build_nested_eq(self,values,operators):\n",
    "        if len(values) == 1: return eval(values[0]) # base recursion\n",
    "        else: # recursively call this function until we reach base\n",
    "            inner_formula = f\"({values[0]}{operators[0]}{values[1]})\"\n",
    "            return self.build_nested_eq([inner_formula] + values[2:],operators[1:])\n",
    "    \n",
    "    def custom_eval(self,values,opers):\n",
    "        # print(values,opers)\n",
    "        i = 1\n",
    "        res = int(values[0])\n",
    "        # print(res)\n",
    "        for op in opers:\n",
    "            # print(op,\"... =\")\n",
    "            match op:\n",
    "                case \"+\":\n",
    "                    res+=int(values[i])\n",
    "                case \"*\":\n",
    "                    res*=int(values[i])\n",
    "                case \"||\":\n",
    "                    res=int(str(res)+str(values[i]))\n",
    "            i+=1\n",
    "            # print(res)\n",
    "        return res\n",
    "    \n",
    "    def check_eq(self,eq):\n",
    "        answer, values = eq\n",
    "        for opers in it.product(self.operators,repeat=len(values)-1):\n",
    "            if self.custom_eval(values,opers) == answer:\n",
    "                return answer\n",
    "        return 0\n",
    "\n",
    "    def check_eqs(self):\n",
    "        # Changing to multiprocessing:\n",
    "        with Pool(processes=cpu_count()) as pool:\n",
    "            results = pool.map(self.check_eq,self.equations)\n",
    "            # working with a list, this maps an equation to every item of the list\n",
    "            return sum(results)\n",
    "        # c = 0\n",
    "        # for answer, values in self.equations:\n",
    "        #     for opers in it.product(self.operators,repeat=len(values)-1):\n",
    "        #         if self.custom_eval(values,opers) == answer:\n",
    "        #             # print(answer)\n",
    "        #             c+=answer\n",
    "        #             break\n",
    "        # return c\n",
    "    \n",
    "\n",
    "res = ElephantPlay(test_input)\n",
    "res.check_eqs()"
   ]
  },
  {
   "cell_type": "markdown",
   "metadata": {},
   "source": [
    "takeaway:\n",
    "- multiprocessing reduced a 5min+ process into a 20s one. awesome\n",
    "- it's still good to figure out the input set first before using multiprocessing to reduce load"
   ]
  }
 ],
 "metadata": {
  "kernelspec": {
   "display_name": "base",
   "language": "python",
   "name": "python3"
  },
  "language_info": {
   "codemirror_mode": {
    "name": "ipython",
    "version": 3
   },
   "file_extension": ".py",
   "mimetype": "text/x-python",
   "name": "python",
   "nbconvert_exporter": "python",
   "pygments_lexer": "ipython3",
   "version": "3.11.7"
  }
 },
 "nbformat": 4,
 "nbformat_minor": 2
}
