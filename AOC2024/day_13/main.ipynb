{
 "cells": [
  {
   "cell_type": "code",
   "execution_count": 44,
   "metadata": {},
   "outputs": [],
   "source": [
    "# import itertools as it\n",
    "# from multiprocessing import Pool, cpu_count\n",
    "# from collections import defaultdict\n",
    "import re\n",
    "from math import gcd\n",
    "\n",
    "with open('input.txt', 'r') as file:\n",
    "    input = file.read()\n",
    "\n",
    "test_input = \"\"\"\\\n",
    "Button A: X+94, Y+34\n",
    "Button B: X+22, Y+67\n",
    "Prize: X=8400, Y=5400\n",
    "\n",
    "Button A: X+26, Y+66\n",
    "Button B: X+67, Y+21\n",
    "Prize: X=12748, Y=12176\n",
    "\n",
    "Button A: X+17, Y+86\n",
    "Button B: X+84, Y+37\n",
    "Prize: X=7870, Y=6450\n",
    "\n",
    "Button A: X+69, Y+23\n",
    "Button B: X+27, Y+71\n",
    "Prize: X=18641, Y=10279\n",
    "\"\"\"\n"
   ]
  },
  {
   "cell_type": "markdown",
   "metadata": {},
   "source": [
    "### Part 1\n",
    "Ok. A math problem.\n",
    "\n",
    "Given `a,b,n, ax+bx=n`: what is `a` and `b`?\n",
    "- If `n,a,b` in dict, return value\n",
    "- Use [Linear Diophantine Equation](https://www.geeksforgeeks.org/linear-diophantine-equations/) to find out if a solution exist\n",
    "- if solution exist: Check `(n-i*a) % b == 0` for `i<100`\n"
   ]
  },
  {
   "cell_type": "code",
   "execution_count": 56,
   "metadata": {},
   "outputs": [
    {
     "name": "stdout",
     "output_type": "stream",
     "text": [
      "Part 1: 480\n"
     ]
    }
   ],
   "source": [
    "class ClawMachine():\n",
    "    def __init__ (self,txt,part2=False):\n",
    "        pattern = r\"Button A: X\\+(\\d+), Y\\+(\\d+)\\nButton B: X\\+(\\d+), Y\\+(\\d+)\\nPrize: X=(\\d+), Y=(\\d+)\"\n",
    "        matches = re.findall(pattern,txt)\n",
    "\n",
    "        self.solutions = []\n",
    "        self.cost = 0\n",
    "        for match in matches:\n",
    "            aX, aY, bX, bY, prizeX, prizeY = map(int, match) # mapping each value in match to int, assigning to var\n",
    "            if (part2):\n",
    "                prizeX += 10000000000000\n",
    "                prizeY += 10000000000000\n",
    "            resX = self.find_solutions(prizeX,aX,bX)\n",
    "            resY = self.find_solutions(prizeY,aY,bY)\n",
    "            common = set(resX).intersection(resY)\n",
    "            if common:\n",
    "                resA,resB = min(common,key=lambda i: i[0]*3+i[1])\n",
    "                self.cost += resA*3 + resB\n",
    "\n",
    "    # find solution\n",
    "    def find_solutions(self,n,a,b):\n",
    "        # n,a,b = info\n",
    "        # print(\"start of sols\")\n",
    "        sols = []\n",
    "        gcdAB = gcd(a,b)\n",
    "        if n % gcdAB != 0: return sols\n",
    "        for i in range(100):\n",
    "            if (n-(i*a))%b == 0:\n",
    "                sols.append((i,int(n-(i*a))/b))\n",
    "        # print(\"for a:\",a,\", b:\",b,\", n:\",n,\"=\",sols)\n",
    "        # print(sols)\n",
    "        return set(sols)\n",
    "\n",
    "\n",
    "p1 = ClawMachine(test_input)\n",
    "# p2 = ClawMachine(test_input,True)\n",
    "print(\"Part 1:\",int(p1.cost))\n",
    "# print(\"Part 2:\",p2.cost)"
   ]
  },
  {
   "cell_type": "markdown",
   "metadata": {},
   "source": [
    "Some extra tests I've done"
   ]
  },
  {
   "cell_type": "code",
   "execution_count": 13,
   "metadata": {},
   "outputs": [
    {
     "name": "stdout",
     "output_type": "stream",
     "text": [
      "(1, 6)\n"
     ]
    }
   ],
   "source": [
    "# Initialization of list\n",
    "list1 = [(6, 2), (3, 4), (1,6)]\n",
    "list2 = [(2, 3), (90, 22),(6,2),(1,6)]\n",
    "#Finding intersection\n",
    "common_elements = set(list1).intersection(list2)\n",
    "print(min(common_elements,key=lambda i: i[0]*3+i[1]))"
   ]
  },
  {
   "cell_type": "markdown",
   "metadata": {},
   "source": [
    "### Part 2\n",
    "So this was once again an efficiency problem. Cursory search led me to Cramer's rule, and now I'm remembering all about it (lie). I had to re-learn all this (using this [Wraith of Math video](https://www.youtube.com/watch?v=ZbXOuukX6cA) with a 2x2 example) and apply it, and once I figured out the function it was smooth sailing."
   ]
  },
  {
   "cell_type": "code",
   "execution_count": 58,
   "metadata": {},
   "outputs": [
    {
     "data": {
      "text/plain": [
       "(118679050709.0, 103199174542.0)"
      ]
     },
     "execution_count": 58,
     "metadata": {},
     "output_type": "execute_result"
    }
   ],
   "source": [
    "def solve(aX, aY, bX, bY, prizeX, prizeY):\n",
    "    # x  y\n",
    "    # aX bX = prizeX\n",
    "    # aY bY = prizeY\n",
    "    detA = calc_det(aX,bX,aY,bY)\n",
    "    Dx = calc_det(prizeX,bX,prizeY,bY)\n",
    "    Dy = calc_det(aX,prizeX,aY,prizeY)\n",
    "    return (Dx/detA,Dy/detA)\n",
    "\n",
    "def calc_det(a,b,c,d):\n",
    "    #a b\n",
    "    #c d\n",
    "    return (a*d)-(c*b)\n",
    "\n",
    "solve(26,66,67,21,10000000012748,10000000012176) # example 2"
   ]
  },
  {
   "cell_type": "markdown",
   "metadata": {},
   "source": [
    "And then it's just using the new solve to do it!\n",
    "\n",
    "### Cleaned up + Final solution:"
   ]
  },
  {
   "cell_type": "code",
   "execution_count": 69,
   "metadata": {},
   "outputs": [
    {
     "name": "stdout",
     "output_type": "stream",
     "text": [
      "Part 1: 29438\n",
      "Part 2: 104958599303720\n"
     ]
    }
   ],
   "source": [
    "class ClawMachine():\n",
    "    def __init__ (self,txt,part2=False):\n",
    "        pattern = r\"Button A: X\\+(\\d+), Y\\+(\\d+)\\nButton B: X\\+(\\d+), Y\\+(\\d+)\\nPrize: X=(\\d+), Y=(\\d+)\"\n",
    "        matches = re.findall(pattern,txt)\n",
    "\n",
    "        self.solutions = []\n",
    "        self.cost = 0\n",
    "        for match in matches:\n",
    "            aX, aY, bX, bY, prizeX, prizeY = map(int, match) # mapping each value in match to int, assigning to var\n",
    "            if (part2):\n",
    "                prizeX += 10000000000000\n",
    "                prizeY += 10000000000000\n",
    "            solution = self.solve(aX, aY, bX, bY, prizeX, prizeY)\n",
    "            # print(solution)\n",
    "            self.cost += solution[0]*3+solution[1]\n",
    "\n",
    "    def solve(self,aX, aY, bX, bY, prizeX, prizeY):\n",
    "        # x  y\n",
    "        # aX bX = prizeX\n",
    "        # aY bY = prizeY\n",
    "        detA = calc_det(aX,bX,aY,bY)\n",
    "        Dx = calc_det(prizeX,bX,prizeY,bY)\n",
    "        Dy = calc_det(aX,prizeX,aY,prizeY)\n",
    "        if Dx%detA == 0 and Dy%detA == 0:\n",
    "            return (int(Dx/detA),int(Dy/detA))\n",
    "        else:\n",
    "            return (0,0)\n",
    "\n",
    "    def calc_det(a,b,c,d):\n",
    "        #a b\n",
    "        #c d\n",
    "        return (a*d)-(c*b)\n",
    "\n",
    "\n",
    "p1 = ClawMachine(input)\n",
    "p2 = ClawMachine(input,True)\n",
    "print(\"Part 1:\",p1.cost)\n",
    "print(\"Part 2:\",p2.cost)"
   ]
  },
  {
   "cell_type": "markdown",
   "metadata": {},
   "source": [
    "### Takeaways\n",
    "- math... sometimes it's the intuition of knowing to use linear algebra when it comes down to it.\n",
    "- I kept thinking that there would be more than one solution for each equation, a simple plotting would've helped me figure out they're linear equations and would only have one answer. I did learn some tricks for intersections though, overall pretty fun day."
   ]
  }
 ],
 "metadata": {
  "kernelspec": {
   "display_name": "base",
   "language": "python",
   "name": "python3"
  },
  "language_info": {
   "codemirror_mode": {
    "name": "ipython",
    "version": 3
   },
   "file_extension": ".py",
   "mimetype": "text/x-python",
   "name": "python",
   "nbconvert_exporter": "python",
   "pygments_lexer": "ipython3",
   "version": "3.11.7"
  }
 },
 "nbformat": 4,
 "nbformat_minor": 2
}
