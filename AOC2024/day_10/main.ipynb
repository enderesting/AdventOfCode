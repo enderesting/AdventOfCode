{
 "cells": [
  {
   "cell_type": "code",
   "execution_count": 85,
   "metadata": {},
   "outputs": [],
   "source": [
    "import itertools as it\n",
    "from multiprocessing import Pool, cpu_count\n",
    "from collections import defaultdict\n",
    "\n",
    "with open('input.txt', 'r') as file:\n",
    "    input = file.read()\n",
    "\n",
    "test_input = \"\"\"\\\n",
    "89010123\n",
    "78121874\n",
    "87430965\n",
    "96549874\n",
    "45678903\n",
    "32019012\n",
    "01329801\n",
    "10456732\n",
    "\"\"\"\n"
   ]
  },
  {
   "cell_type": "markdown",
   "metadata": {},
   "source": [
    "### Part 1\n",
    "\n",
    "I was a little too sleepy for my brain to work, so I browsed a bit to figure out which direction I had to go, and realized it was a matter of implementing a search algo. Also learnt about the magics of [imaginary numbers as a way to record coordinates (source: petrolson)](https://github.com/peterolson/2024-advent-of-code/blob/master/10.py). But ultimately I kind of didn't like that for clarity reasons. "
   ]
  },
  {
   "cell_type": "code",
   "execution_count": 96,
   "metadata": {},
   "outputs": [
    {
     "name": "stdout",
     "output_type": "stream",
     "text": [
      "8   8\n",
      "{(0, 0): '8', (0, 1): '9', (0, 2): '0', (0, 3): '1', (0, 4): '0', (0, 5): '1', (0, 6): '2', (0, 7): '3', (1, 0): '7', (1, 1): '8', (1, 2): '1', (1, 3): '2', (1, 4): '1', (1, 5): '8', (1, 6): '7', (1, 7): '4', (2, 0): '8', (2, 1): '7', (2, 2): '4', (2, 3): '3', (2, 4): '0', (2, 5): '9', (2, 6): '6', (2, 7): '5', (3, 0): '9', (3, 1): '6', (3, 2): '5', (3, 3): '4', (3, 4): '9', (3, 5): '8', (3, 6): '7', (3, 7): '4', (4, 0): '4', (4, 1): '5', (4, 2): '6', (4, 3): '7', (4, 4): '8', (4, 5): '9', (4, 6): '0', (4, 7): '3', (5, 0): '3', (5, 1): '2', (5, 2): '0', (5, 3): '1', (5, 4): '9', (5, 5): '0', (5, 6): '1', (5, 7): '2', (6, 0): '0', (6, 1): '1', (6, 2): '3', (6, 3): '2', (6, 4): '9', (6, 5): '8', (6, 6): '0', (6, 7): '1', (7, 0): '1', (7, 1): '0', (7, 2): '4', (7, 3): '5', (7, 4): '6', (7, 5): '7', (7, 6): '3', (7, 7): '2'}\n",
      "36\n",
      "81\n"
     ]
    }
   ],
   "source": [
    "class TrailBlazing():\n",
    "    def __init__(self,txt):\n",
    "        lines = txt.splitlines()\n",
    "        self.grid = { (x,y) : c\n",
    "            for x, line in enumerate(lines)\n",
    "            for y, c in enumerate(line)}\n",
    "        self.r = len(lines)\n",
    "        self.c = len(lines[0])\n",
    "        print(self.r, \" \",self.c)\n",
    "        print(self.grid)\n",
    "        self.dirs = [(1,0),(-1,0),(0,1),(0,-1)]\n",
    "        \n",
    "    def count_trails(self, pos, unique_path = False):\n",
    "        q,visited = [],set()\n",
    "        q.append(pos)\n",
    "        score = 0\n",
    "\n",
    "        while len(q)>0:\n",
    "            # get current node, remove from queue\n",
    "            node = q.pop(0)\n",
    "            # check if current node is end?\n",
    "            if unique_path:\n",
    "                if self.grid[node] == '9': # part 2\n",
    "                    score+=1\n",
    "            else:\n",
    "                if self.grid[node] == '9' and node not in visited: # part 1\n",
    "                    score+=1\n",
    "            # add to visited nodes\n",
    "            visited.add(node)\n",
    "            neighbors = [(node[0]+dir[0], node[1]+dir[1]) for dir in self.dirs]\n",
    "            # print(node, neighbors)\n",
    "            # add possible neighbors to queue\n",
    "            for n in neighbors:\n",
    "                # print(\"   neighbor of \",node,\", \",n)\n",
    "                if 0<=n[0]<self.r and 0<=n[1]<self.c: # kind of a jank way to take \n",
    "                    if self.grid[n] == '.' or self.grid[node] == '.':\n",
    "                        continue\n",
    "                    elif (n not in visited) and int(self.grid[n]) - int(self.grid[node]) == 1:\n",
    "                        # print(\"  \",n, self.grid[n], self.grid[node])\n",
    "                        q.append(n)        \n",
    "        return score\n",
    "\n",
    "\n",
    "res = TrailBlazing(test_input)\n",
    "p1 = sum([res.count_trails(k) if res.grid[k] == '0' else 0 for k,v in res.grid.items()])\n",
    "p2 = sum([res.count_trails(k,True) if res.grid[k] == '0' else 0 for k,v in res.grid.items()])\n",
    "print (p1)\n",
    "print (p2)\n"
   ]
  },
  {
   "cell_type": "markdown",
   "metadata": {},
   "source": [
    "### Part 2\n",
    "I was like hmm the example outputs seems familiar. And turns out undoing the last edit i made got me the answer! \n",
    "\n",
    "### Takeaways\n",
    "- Pathfinding itself wasn't difficult to implement, but I still needed help to get on that path in the first place. It's not intuitive to me to think of pathfinding when it comes down to it I suppose.\n",
    "- Get enough sleep would probably help.. =_= I spent the first hour nearly falling asleep"
   ]
  }
 ],
 "metadata": {
  "kernelspec": {
   "display_name": "base",
   "language": "python",
   "name": "python3"
  },
  "language_info": {
   "codemirror_mode": {
    "name": "ipython",
    "version": 3
   },
   "file_extension": ".py",
   "mimetype": "text/x-python",
   "name": "python",
   "nbconvert_exporter": "python",
   "pygments_lexer": "ipython3",
   "version": "3.11.7"
  }
 },
 "nbformat": 4,
 "nbformat_minor": 2
}
