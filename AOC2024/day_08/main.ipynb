{
 "cells": [
  {
   "cell_type": "code",
   "execution_count": 55,
   "metadata": {},
   "outputs": [],
   "source": [
    "import itertools as it\n",
    "from multiprocessing import Pool, cpu_count\n",
    "from collections import defaultdict\n",
    "\n",
    "with open('input.txt', 'r') as file:\n",
    "    input = file.read()\n",
    "\n",
    "test_input = \"\"\"\\\n",
    "............\n",
    "........0...\n",
    ".....0......\n",
    ".......0....\n",
    "....0.......\n",
    "......A.....\n",
    "............\n",
    "............\n",
    "........A...\n",
    ".........A..\n",
    "............\n",
    "............\n",
    "\"\"\"\n"
   ]
  },
  {
   "cell_type": "code",
   "execution_count": 70,
   "metadata": {},
   "outputs": [
    {
     "name": "stdout",
     "output_type": "stream",
     "text": [
      "rows 12 cols 12\n",
      "defaultdict(<class 'set'>, {'0': {(4, 4), (3, 7), (1, 8), (2, 5)}, 'A': {(8, 8), (5, 6), (9, 9)}})\n",
      "{(2, 4), (11, 10), (7, 7), (4, 9), (2, 10), (7, 0), (5, 1), (0, 6), (10, 10), (5, 6), (3, 2), (6, 3), (1, 3), (0, 11)}\n",
      "part1: 14\n",
      "part2: 34\n",
      "['#', '#', '.', '.', '.', '.', '#', '.', '.', '.', '.', '#']\n",
      "['.', '#', '.', '#', '.', '.', '.', '.', '#', '.', '.', '.']\n",
      "['.', '.', '#', '.', '#', '#', '.', '.', '.', '.', '#', '.']\n",
      "['.', '.', '#', '#', '.', '.', '.', '#', '.', '.', '.', '.']\n",
      "['.', '.', '.', '.', '#', '.', '.', '.', '.', '#', '.', '.']\n",
      "['.', '#', '.', '.', '.', '#', '#', '.', '.', '.', '.', '#']\n",
      "['.', '.', '.', '#', '.', '.', '#', '.', '.', '.', '.', '.']\n",
      "['#', '.', '.', '.', '.', '#', '.', '#', '.', '.', '.', '.']\n",
      "['.', '.', '#', '.', '.', '.', '.', '.', '#', '.', '.', '.']\n",
      "['.', '.', '.', '.', '#', '.', '.', '.', '.', '#', '.', '.']\n",
      "['.', '#', '.', '.', '.', '.', '.', '.', '.', '.', '#', '.']\n",
      "['.', '.', '.', '#', '.', '.', '.', '.', '.', '.', '#', '#']\n"
     ]
    }
   ],
   "source": [
    "class AntennaBusiness():\n",
    "    def __init__(self, txt):\n",
    "        self.mat = [[x for x in xs] for xs in txt.splitlines()]\n",
    "        self.r,self.c = len(self.mat),len(self.mat[0])\n",
    "        self.antennas = defaultdict(set) # adds a dictionary with empty set for every empty value\n",
    "        for i, row in enumerate(txt.split(\"\\n\")):\n",
    "            for j, pos in enumerate(row):\n",
    "                if pos != \".\":\n",
    "                    self.antennas[pos].add((i,j))\n",
    "        print(\"rows\",self.r,\"cols\",self.c)\n",
    "        self.antinodes = set()\n",
    "        self.antinodes_with_harmonics = set()\n",
    "    \n",
    "    def antenna_diff(self,a,b):\n",
    "        return (b[0]-a[0],b[1]-a[1])\n",
    "    \n",
    "    def in_bounds(self,antinode):\n",
    "        return antinode[0] in range(self.r) and antinode[1] in range(self.c)\n",
    "\n",
    "    def find_antinodes(self):\n",
    "        for ant, coords in self.antennas.items():\n",
    "            for a,b in it.permutations(coords,r=2):\n",
    "                d = self.antenna_diff(a,b)\n",
    "                self.antinodes_with_harmonics.add((b[0],b[1]))\n",
    "                antinode = (b[0]+d[0], b[1]+d[1])\n",
    "                if self.in_bounds(antinode):\n",
    "                    # print(a,\" \",b,\" with antinode:\", antinode)\n",
    "                    self.antinodes.add(antinode)\n",
    "                else: continue\n",
    "                while(True):\n",
    "                    if self.in_bounds(antinode):\n",
    "                        self.antinodes_with_harmonics.add(antinode)\n",
    "                        antinode = antinode[0]+d[0],antinode[1]+d[1]\n",
    "                    else: break\n",
    "    \n",
    "    def plot_nodes(self):\n",
    "        for node in self.antinodes_with_harmonics:\n",
    "            # print(node)\n",
    "            self.mat[node[0]][node[1]] = '#'\n",
    "        for line in self.mat:\n",
    "            print(line)\n",
    "\n",
    "\n",
    "res = AntennaBusiness(test_input)\n",
    "print(res.antennas)\n",
    "res.find_antinodes()\n",
    "print(res.antinodes)\n",
    "print(\"part1:\",len(res.antinodes))\n",
    "print(\"part2:\",len(res.antinodes_with_harmonics))\n",
    "res.plot_nodes()\n"
   ]
  },
  {
   "cell_type": "markdown",
   "metadata": {},
   "source": [
    "### Part 1\n",
    "- Understanding the puzzle took way longer than working on it.\n",
    "- I kept worrying about complexity when it's literally not a problem #traumatized\n",
    "- Not too difficult except I made an oopsie with bounds that wasted like half hour.\n",
    "### Part 2\n",
    "- Part 2 was pretty straightforward. Printing the diagram helped me figure out the out of bounds bug.\n",
    "\n",
    "### Takeaways\n",
    "- Overall not so difficult once I understood what I needed to do. I'm going back to bed."
   ]
  }
 ],
 "metadata": {
  "kernelspec": {
   "display_name": "base",
   "language": "python",
   "name": "python3"
  },
  "language_info": {
   "codemirror_mode": {
    "name": "ipython",
    "version": 3
   },
   "file_extension": ".py",
   "mimetype": "text/x-python",
   "name": "python",
   "nbconvert_exporter": "python",
   "pygments_lexer": "ipython3",
   "version": "3.11.7"
  }
 },
 "nbformat": 4,
 "nbformat_minor": 2
}
