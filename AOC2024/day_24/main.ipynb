{
 "cells": [
  {
   "cell_type": "code",
   "execution_count": 9,
   "metadata": {},
   "outputs": [],
   "source": [
    "import re\n",
    "import numpy as np\n",
    "import heapq\n",
    "from functools import reduce,cache\n",
    "from operator import mul\n",
    "from bisect import insort\n",
    "from itertools import permutations\n",
    "from collections import deque,defaultdict,OrderedDict\n",
    "with open('input.txt', 'r') as file:\n",
    "    input = file.read()\n",
    "\n",
    "test_input = \"\"\"\\\n",
    "x00: 1\n",
    "x01: 0\n",
    "x02: 1\n",
    "x03: 1\n",
    "x04: 0\n",
    "y00: 1\n",
    "y01: 1\n",
    "y02: 1\n",
    "y03: 1\n",
    "y04: 1\n",
    "\n",
    "ntg XOR fgs -> mjb\n",
    "y02 OR x01 -> tnw\n",
    "kwq OR kpj -> z05\n",
    "x00 OR x03 -> fst\n",
    "tgd XOR rvg -> z01\n",
    "vdt OR tnw -> bfw\n",
    "bfw AND frj -> z10\n",
    "ffh OR nrd -> bqk\n",
    "y00 AND y03 -> djm\n",
    "y03 OR y00 -> psh\n",
    "bqk OR frj -> z08\n",
    "tnw OR fst -> frj\n",
    "gnj AND tgd -> z11\n",
    "bfw XOR mjb -> z00\n",
    "x03 OR x00 -> vdt\n",
    "gnj AND wpb -> z02\n",
    "x04 AND y00 -> kjc\n",
    "djm OR pbm -> qhw\n",
    "nrd AND vdt -> hwm\n",
    "kjc AND fst -> rvg\n",
    "y04 OR y02 -> fgs\n",
    "y01 AND x02 -> pbm\n",
    "ntg OR kjc -> kwq\n",
    "psh XOR fgs -> tgd\n",
    "qhw XOR tgd -> z09\n",
    "pbm OR djm -> kpj\n",
    "x03 XOR y03 -> ffh\n",
    "x00 XOR y04 -> ntg\n",
    "bfw OR bqk -> z06\n",
    "nrd XOR fgs -> wpb\n",
    "frj XOR qhw -> z04\n",
    "bqk OR frj -> z07\n",
    "y03 OR x01 -> nrd\n",
    "hwm AND bqk -> z03\n",
    "tgd XOR rvg -> z12\n",
    "tnw OR pbm -> gnj\n",
    "\"\"\""
   ]
  },
  {
   "cell_type": "markdown",
   "metadata": {},
   "source": [
    "### Part 1\n",
    "Pretty straightforward decoder for part 1 so I could only dread what's next!"
   ]
  },
  {
   "cell_type": "code",
   "execution_count": 10,
   "metadata": {},
   "outputs": [
    {
     "name": "stdout",
     "output_type": "stream",
     "text": [
      "xs = 011111011101100000001111010010101010000000101\n",
      "ys = 101110110101001010000111101010100011001010111\n",
      "1001110010010101010010110111101001101001011100\n",
      "17295865369605 + 25745392223831 = 43041257593436 -> 1001110010010101010010110111101001101001011100\n",
      "defaultdict(<function CrossedWires.__init__.<locals>.<lambda> at 0x7509348111c0>, {'x00': 1, 'x01': 0, 'x02': 1, 'x03': 0, 'x04': 0, 'x05': 0, 'x06': 0, 'x07': 0, 'x08': 0, 'x09': 0, 'x10': 1, 'x11': 0, 'x12': 1, 'x13': 0, 'x14': 1, 'x15': 0, 'x16': 1, 'x17': 0, 'x18': 0, 'x19': 1, 'x20': 0, 'x21': 1, 'x22': 1, 'x23': 1, 'x24': 1, 'x25': 0, 'x26': 0, 'x27': 0, 'x28': 0, 'x29': 0, 'x30': 0, 'x31': 0, 'x32': 1, 'x33': 1, 'x34': 0, 'x35': 1, 'x36': 1, 'x37': 1, 'x38': 0, 'x39': 1, 'x40': 1, 'x41': 1, 'x42': 1, 'x43': 1, 'x44': 0, 'y00': 1, 'y01': 1, 'y02': 1, 'y03': 0, 'y04': 1, 'y05': 0, 'y06': 1, 'y07': 0, 'y08': 0, 'y09': 1, 'y10': 1, 'y11': 0, 'y12': 0, 'y13': 0, 'y14': 1, 'y15': 0, 'y16': 1, 'y17': 0, 'y18': 1, 'y19': 0, 'y20': 1, 'y21': 1, 'y22': 1, 'y23': 1, 'y24': 0, 'y25': 0, 'y26': 0, 'y27': 0, 'y28': 1, 'y29': 0, 'y30': 1, 'y31': 0, 'y32': 0, 'y33': 1, 'y34': 0, 'y35': 1, 'y36': 0, 'y37': 1, 'y38': 1, 'y39': 0, 'y40': 1, 'y41': 1, 'y42': 1, 'y43': 0, 'y44': 1})\n",
      "{'pwm': (['hrk', 'rnb'], 'OR'), 'jbk': (['x05', 'y05'], 'XOR'), 'z31': (['hbc', 'hnr'], 'XOR'), 'qck': (['fcd', 'mgc'], 'AND'), 'fhn': (['x23', 'y23'], 'AND'), 'rmv': (['dkb', 'rvf'], 'AND'), 'stm': (['hhc', 'knm'], 'AND'), 'z43': (['vcd', 'vbv'], 'XOR'), 'z22': (['prd', 'ggg'], 'XOR'), 'cgh': (['hbd', 'cst'], 'OR'), 'ncf': (['x21', 'y21'], 'AND'), 'nmp': (['y40', 'x40'], 'AND'), 'z29': (['scf', 'ksv'], 'XOR'), 'z07': (['pmd', 'tqd'], 'XOR'), 'fpf': (['tnp', 'rft'], 'AND'), 'gkb': (['y11', 'x11'], 'XOR'), 'dgf': (['y07', 'x07'], 'AND'), 'qdr': (['y15', 'x15'], 'AND'), 'pwv': (['nbj', 'tqv'], 'OR'), 'fgp': (['mtq', 'tkj'], 'AND'), 'bdf': (['tqd', 'pmd'], 'AND'), 'fmg': (['y30', 'x30'], 'XOR'), 'ccs': (['x34', 'y34'], 'AND'), 'rfd': (['bmh', 'stm'], 'OR'), 'z27': (['rvf', 'dkb'], 'XOR'), 'wcj': (['y44', 'x44'], 'XOR'), 'rkg': (['x24', 'y24'], 'XOR'), 'z17': (['fmr', 'vtd'], 'XOR'), 'svt': (['chr', 'nps'], 'OR'), 'qrh': (['x35', 'y35'], 'XOR'), 'jgr': (['rfd', 'smf'], 'AND'), 'z26': (['qwr', 'pbf'], 'XOR'), 'bnc': (['cdn', 'qdr'], 'OR'), 'gvf': (['x37', 'y37'], 'XOR'), 'hwg': (['pwm', 'djk'], 'AND'), 'chf': (['nrf', 'jkk'], 'OR'), 'vvd': (['rtc', 'rhc'], 'AND'), 'tqw': (['y12', 'x12'], 'XOR'), 'jbj': (['cmk', 'fhn'], 'OR'), 'hnr': (['ttv', 'mbp'], 'OR'), 'mvn': (['x18', 'y18'], 'XOR'), 'z03': (['mtq', 'tkj'], 'XOR'), 'vcj': (['krw', 'vnk'], 'AND'), 'trg': (['y25', 'x25'], 'AND'), 'z20': (['tsc', 'pns'], 'XOR'), 'ndj': (['bnc', 'vmr'], 'AND'), 'smf': (['x33', 'y33'], 'XOR'), 'fmr': (['hmk', 'ndj'], 'OR'), 'njd': (['y41', 'x41'], 'AND'), 'z05': (['mch', 'jbk'], 'XOR'), 'z12': (['cgh', 'tqw'], 'XOR'), 'hmk': (['y16', 'x16'], 'AND'), 'wbg': (['y14', 'x14'], 'AND'), 'cdn': (['jtv', 'nsc'], 'AND'), 'hvv': (['y23', 'x23'], 'XOR'), 'mpw': (['tqw', 'cgh'], 'AND'), 'rft': (['dvq', 'ssp'], 'OR'), 'jct': (['nmp', 'jjg'], 'OR'), 'z08': (['tbw', 'dsq'], 'XOR'), 'jkg': (['fmr', 'vtd'], 'AND'), 'pbd': (['y24', 'x24'], 'AND'), 'dsw': (['x06', 'y06'], 'AND'), 'pmd': (['x07', 'y07'], 'XOR'), 'z13': (['shm', 'njv'], 'XOR'), 'tnp': (['x38', 'y38'], 'XOR'), 'z37': (['gvf', 'cqv'], 'XOR'), 'tqd': (['gjj', 'dsw'], 'OR'), 'hhc': (['x32', 'y32'], 'XOR'), 'jkk': (['y18', 'x18'], 'AND'), 'mbp': (['tmq', 'fmg'], 'AND'), 'cst': (['x11', 'y11'], 'AND'), 'z19': (['gdq', 'chf'], 'XOR'), 'hdc': (['gkk', 'njd'], 'OR'), 'wsm': (['ntn', 'dtn'], 'AND'), 'z21': (['krw', 'vnk'], 'XOR'), 'tvw': (['vbv', 'vcd'], 'AND'), 'tbw': (['y08', 'x08'], 'XOR'), 'wfr': (['x04', 'y04'], 'XOR'), 'knm': (['qvp', 'dhq'], 'OR'), 'z39': (['wgr', 'bwj'], 'XOR'), 'mfv': (['scf', 'ksv'], 'AND'), 'wgr': (['sfs', 'fpf'], 'OR'), 'z35': (['qrh', 'bjg'], 'XOR'), 'vmr': (['y16', 'x16'], 'XOR'), 'cqv': (['vvd', 'dqh'], 'OR'), 'nsc': (['wbg', 'hwg'], 'OR'), 'cfr': (['x25', 'y25'], 'XOR'), 'z38': (['rft', 'tnp'], 'XOR'), 'z04': (['wfr', 'fnv'], 'XOR'), 'djk': (['y14', 'x14'], 'XOR'), 'ggg': (['ncf', 'vcj'], 'OR'), 'mgc': (['x34', 'y34'], 'XOR'), 'hbd': (['gkb', 'pjh'], 'AND'), 'tck': (['x10', 'y10'], 'XOR'), 'kgb': (['x17', 'y17'], 'AND'), 'jcw': (['ggg', 'prd'], 'AND'), 'z25': (['mgm', 'cfr'], 'XOR'), 'z45': (['kvm', 'svd'], 'OR'), 'z10': (['ddg', 'tck'], 'XOR'), 'rvf': (['y27', 'x27'], 'XOR'), 'z06': (['wjq', 'thj'], 'XOR'), 'cpf': (['y02', 'x02'], 'AND'), 'mch': (['sjc', 'jhb'], 'OR'), 'tkj': (['gms', 'cpf'], 'OR'), 'z15': (['jtv', 'nsc'], 'XOR'), 'kvm': (['fnw', 'wcj'], 'AND'), 'wjq': (['tcw', 'gvh'], 'OR'), 'z33': (['smf', 'rfd'], 'XOR'), 'dnv': (['jbj', 'rkg'], 'AND'), 'qgq': (['y19', 'x19'], 'AND'), 'spt': (['jnh', 'qkj'], 'OR'), 'nrf': (['mvn', 'wjt'], 'AND'), 'wnk': (['y22', 'x22'], 'AND'), 'gkk': (['jct', 'hmm'], 'AND'), 'pns': (['x20', 'y20'], 'XOR'), 'jjg': (['grr', 'svt'], 'AND'), 'pgp': (['x29', 'y29'], 'AND'), 'cdj': (['tck', 'ddg'], 'AND'), 'kkp': (['mgm', 'cfr'], 'AND'), 'bmh': (['x32', 'y32'], 'AND'), 'z40': (['svt', 'grr'], 'XOR'), 'qvp': (['hbc', 'hnr'], 'AND'), 'qmw': (['bjg', 'qrh'], 'AND'), 'mtq': (['y03', 'x03'], 'XOR'), 'qkp': (['y03', 'x03'], 'AND'), 'ttw': (['y26', 'x26'], 'AND'), 'njv': (['fdg', 'mpw'], 'OR'), 'ddg': (['kqj', 'bcs'], 'OR'), 'rtc': (['fjg', 'qmw'], 'OR'), 'bjg': (['ccs', 'qck'], 'OR'), 'rsq': (['y01', 'x01'], 'XOR'), 'qkj': (['x01', 'y01'], 'AND'), 'gjj': (['wjq', 'thj'], 'AND'), 'bcs': (['x09', 'y09'], 'AND'), 'z18': (['mvn', 'wjt'], 'XOR'), 'tsc': (['qgq', 'qpp'], 'OR'), 'gms': (['spt', 'vjn'], 'AND'), 'sfs': (['x38', 'y38'], 'AND'), 'vcd': (['nmd', 'wdk'], 'OR'), 'hmm': (['y41', 'x41'], 'XOR'), 'thj': (['y06', 'x06'], 'XOR'), 'qpp': (['chf', 'gdq'], 'AND'), 'dhq': (['x31', 'y31'], 'AND'), 'nmd': (['y42', 'x42'], 'AND'), 'ntn': (['tpc', 'rmv'], 'OR'), 'z28': (['dtn', 'ntn'], 'XOR'), 'scf': (['y29', 'x29'], 'XOR'), 'fnw': (['ftg', 'tvw'], 'OR'), 'ssp': (['y37', 'x37'], 'AND'), 'tmq': (['pgp', 'mfv'], 'OR'), 'sqm': (['x09', 'y09'], 'XOR'), 'nbj': (['x08', 'y08'], 'AND'), 'fnj': (['x28', 'y28'], 'AND'), 'ggw': (['pbf', 'qwr'], 'AND'), 'kqj': (['pwv', 'sqm'], 'AND'), 'z00': (['y00', 'x00'], 'XOR'), 'kbt': (['y42', 'x42'], 'XOR'), 'bdk': (['x00', 'y00'], 'AND'), 'rhc': (['x36', 'y36'], 'XOR'), 'wjt': (['jkg', 'kgb'], 'OR'), 'sjc': (['wfr', 'fnv'], 'AND'), 'fcd': (['wkw', 'jgr'], 'OR'), 'rwm': (['x20', 'y20'], 'AND'), 'qwr': (['y26', 'x26'], 'XOR'), 'svd': (['y44', 'x44'], 'AND'), 'z09': (['sqm', 'pwv'], 'XOR'), 'z44': (['wcj', 'fnw'], 'XOR'), 'shm': (['y13', 'x13'], 'XOR'), 'wdk': (['hdc', 'kbt'], 'AND'), 'vbv': (['y43', 'x43'], 'XOR'), 'z30': (['tmq', 'fmg'], 'XOR'), 'dvq': (['cqv', 'gvf'], 'AND'), 'vtd': (['y17', 'x17'], 'XOR'), 'prd': (['x22', 'y22'], 'XOR'), 'fnv': (['fgp', 'qkp'], 'OR'), 'dtn': (['y28', 'x28'], 'XOR'), 'wkw': (['x33', 'y33'], 'AND'), 'hrk': (['njv', 'shm'], 'AND'), 'jhb': (['x04', 'y04'], 'AND'), 'z34': (['fcd', 'mgc'], 'XOR'), 'tqv': (['dsq', 'tbw'], 'AND'), 'z32': (['hhc', 'knm'], 'XOR'), 'cmk': (['hvv', 'rnq'], 'AND'), 'rnq': (['jcw', 'wnk'], 'OR'), 'chr': (['x39', 'y39'], 'AND'), 'fhp': (['pns', 'tsc'], 'AND'), 'fjg': (['x35', 'y35'], 'AND'), 'krw': (['x21', 'y21'], 'XOR'), 'z14': (['djk', 'pwm'], 'XOR'), 'vjn': (['y02', 'x02'], 'XOR'), 'ttv': (['x30', 'y30'], 'AND'), 'fdg': (['y12', 'x12'], 'AND'), 'jtv': (['y15', 'x15'], 'XOR'), 'dsq': (['bdf', 'dgf'], 'OR'), 'nps': (['wgr', 'bwj'], 'AND'), 'dqh': (['y36', 'x36'], 'AND'), 'bqd': (['y10', 'x10'], 'AND'), 'pjh': (['cdj', 'bqd'], 'OR'), 'ksv': (['fnj', 'wsm'], 'OR'), 'pbf': (['trg', 'kkp'], 'OR'), 'z11': (['gkb', 'pjh'], 'XOR'), 'jnh': (['rsq', 'bdk'], 'AND'), 'z01': (['bdk', 'rsq'], 'XOR'), 'ftg': (['y43', 'x43'], 'AND'), 'z24': (['jbj', 'rkg'], 'XOR'), 'z41': (['jct', 'hmm'], 'XOR'), 'mgm': (['dnv', 'pbd'], 'OR'), 'z02': (['spt', 'vjn'], 'XOR'), 'z36': (['rtc', 'rhc'], 'XOR'), 'gvh': (['y05', 'x05'], 'AND'), 'z23': (['rnq', 'hvv'], 'XOR'), 'rnb': (['x13', 'y13'], 'AND'), 'bwj': (['y39', 'x39'], 'XOR'), 'tcw': (['mch', 'jbk'], 'AND'), 'vnk': (['fhp', 'rwm'], 'OR'), 'z16': (['vmr', 'bnc'], 'XOR'), 'dkb': (['ttw', 'ggw'], 'OR'), 'tpc': (['x27', 'y27'], 'AND'), 'gdq': (['x19', 'y19'], 'XOR'), 'grr': (['x40', 'y40'], 'XOR'), 'hbc': (['y31', 'x31'], 'XOR'), 'z42': (['hdc', 'kbt'], 'XOR')}\n",
      "part1: 43041257593436\n",
      "\n",
      "\n",
      "1001110010010101010010110111101001101001011100\n",
      "1001110010010101010010110111101001101001011100\n"
     ]
    }
   ],
   "source": [
    "class CrossedWires:\n",
    "    def __init__(self,txt):\n",
    "        parts = txt.split(\"\\n\\n\")\n",
    "        self.inputs = defaultdict(lambda:-1)\n",
    "        # self.inputs.add({line[:3]:int(line[-1]) for line in parts[0].splitlines()})\n",
    "        xs,ys = [],[]\n",
    "        for line in parts[0].splitlines():\n",
    "            self.inputs[line[:3]] = int(line[-1]) \n",
    "            if line[0] == 'x': xs.append(line[-1])\n",
    "            if line[0] == 'y': ys.append(line[-1])\n",
    "        xs = ''.join(reversed(xs))\n",
    "        ys = ''.join(reversed(ys))\n",
    "        print(f\"xs = {xs}\")\n",
    "        print(f\"ys = {ys}\")\n",
    "        ans = (int(xs,2) + int(ys,2))\n",
    "        self.bin_ans = bin(ans)[2:]\n",
    "        print(self.bin_ans)\n",
    "        print(f\"{int(xs,2)} + {int(ys,2)} = {ans} -> {self.bin_ans}\")\n",
    "        print(self.inputs)\n",
    "        self.instructions = {}\n",
    "        for line in parts[1].splitlines():\n",
    "            words = line.split()\n",
    "            self.instructions[words[4]] = ([words[0],words[2]],words[1])\n",
    "        # self.instructions = [line.split() for line in parts[1].splitlines()]\n",
    "        print(self.instructions)\n",
    "    \n",
    "    def solve(self,res, space = 0):\n",
    "        eq = self.instructions[res] # eq[0]= [x,y] eq[1] = op\n",
    "        terms = []\n",
    "        for v in eq[0]:\n",
    "            t = self.inputs[v]\n",
    "            if t == -1:\n",
    "                t = self.solve(v,space+1) \n",
    "            terms.append(t)\n",
    "        # print(f\"terms:{terms}\")\n",
    "        match eq[1]:\n",
    "            case 'XOR':\n",
    "                ans = terms[0]^terms[1]\n",
    "            case 'OR':\n",
    "                ans = terms[0]|terms[1]\n",
    "            case 'AND':\n",
    "                ans = terms[0]&terms[1]\n",
    "        self.inputs[res] = ans\n",
    "        # print(f\"    {self.inputs[res]}\")\n",
    "        # print(f\"{space*'  '}{eq[0][0]} {eq[1]} {eq[0][1]} = {res}  -> {terms[0]} {eq[1]} {terms[1]} = {ans}\")\n",
    "        return ans\n",
    "    \n",
    "    def solve_all(self):\n",
    "        for wire in self.instructions:\n",
    "            self.solve(wire)\n",
    "        z_values = sorted([(k,v) for k,v in self.inputs.items() if k.startswith('z')])\n",
    "        # print(z_values)\n",
    "        binary_res = ''.join(reversed([str(z[1]) for z in z_values]))\n",
    "        # print(binary_res)\n",
    "        return binary_res\n",
    "    \n",
    "    def check_ans(self,ans):\n",
    "        print(ans)\n",
    "        print(self.bin_ans)\n",
    "        r_ans = ans[::-1]\n",
    "        for i, b in enumerate(reversed(self.bin_ans)):\n",
    "            # print(f\"i,b: {i,b}, ans[i]:{r_ans[i]}\")\n",
    "            if b != r_ans[i]:\n",
    "                print(f\"UH OH! CHECK INDEX: z{i}\")\n",
    "\n",
    "    \n",
    "\n",
    "res = CrossedWires(input)\n",
    "binary_res = res.solve_all()\n",
    "print(f\"part1: {int(binary_res,2)}\")\n",
    "\n",
    "print(\"\\n\")\n",
    "res.check_ans(binary_res)"
   ]
  },
  {
   "cell_type": "markdown",
   "metadata": {},
   "source": [
    "### Part 2\n",
    "Honestly. Didn't expect myself to do the second part entirely through pen and paper. I might take a pic of my process -- it's pretty fun to see. It was pretty frustrating initially because I got multiple answers through pattern recognition monkey brain that passed the test, but only through random input attempts did I root out all the problem -- and I still had to wait till the next day to do it! Hello from day 25!\n",
    "\n",
    "Hey maybe I AM able to do redstone. Who knows?\n",
    "\n",
    "Below is the code I used to sort the final answer. That and `check_ans` to mark which z index might be wrong are the only extras code for part 2."
   ]
  },
  {
   "cell_type": "code",
   "execution_count": 11,
   "metadata": {},
   "outputs": [
    {
     "data": {
      "text/plain": [
       "'fcd,fhp,hmk,rvf,tpc,z16,z20,z33'"
      ]
     },
     "execution_count": 11,
     "metadata": {},
     "output_type": "execute_result"
    }
   ],
   "source": [
    "# wires = ['z16','vmr','fhp','z20','rvf','tpc','z33','z34']\n",
    "wires = ['z16','hmk','fhp','z20','rvf','tpc','fcd','z33']\n",
    "','.join(sorted(wires))"
   ]
  },
  {
   "cell_type": "markdown",
   "metadata": {},
   "source": [
    "### Takeaways\n",
    "- When in doubt trust the power of your brain or whatever\n",
    "- never give up?\n",
    "- It's actually Christmas day right now and this problem was the last I've ever done. More on the next day!"
   ]
  }
 ],
 "metadata": {
  "kernelspec": {
   "display_name": "base",
   "language": "python",
   "name": "python3"
  },
  "language_info": {
   "codemirror_mode": {
    "name": "ipython",
    "version": 3
   },
   "file_extension": ".py",
   "mimetype": "text/x-python",
   "name": "python",
   "nbconvert_exporter": "python",
   "pygments_lexer": "ipython3",
   "version": "3.11.7"
  }
 },
 "nbformat": 4,
 "nbformat_minor": 2
}
