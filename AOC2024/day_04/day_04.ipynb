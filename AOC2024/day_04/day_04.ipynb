{
 "cells": [
  {
   "cell_type": "code",
   "execution_count": 1,
   "metadata": {},
   "outputs": [],
   "source": [
    "with open('input.txt', 'r') as file:\n",
    "    input = file.read()\n",
    "\n",
    "import re\n",
    "import numpy as np\n",
    "from collections import defaultdict\n",
    "test_input = \"\"\"\\\n",
    "MMMSXXMASM\n",
    "MSAMXMSMSA\n",
    "AMXSXMAAMM\n",
    "MSAMASMSMX\n",
    "XMASAMXAMM\n",
    "XXAMMXXAMA\n",
    "SMSMSASXSS\n",
    "SAXAMASAAA\n",
    "MAMMMXMMMM\n",
    "MXMXAXMASX\n",
    "\"\"\""
   ]
  },
  {
   "cell_type": "markdown",
   "metadata": {},
   "source": [
    "- regex search xmas/samx add to count\n",
    "- flip matrix\n",
    "- repeat"
   ]
  },
  {
   "cell_type": "code",
   "execution_count": 21,
   "metadata": {},
   "outputs": [
    {
     "name": "stdout",
     "output_type": "stream",
     "text": [
      "18\n",
      "2534\n"
     ]
    }
   ],
   "source": [
    "pattern = r\"(?=(XMAS|SAMX))\" #positive lookahead\n",
    "def count_XMAS(txt):\n",
    "    regex = re.compile(pattern, re.MULTILINE)\n",
    "    matches= regex.findall(txt)\n",
    "    # print([match for match in matches])\n",
    "    # count = [2 if (match == \"XMASAMX\" or match == \"SAMXMAS\") else 1 for match in matches]\n",
    "    count = len([match for match in matches])\n",
    "    # return(sum(count))\n",
    "    return count\n",
    "\n",
    "def rotate_matrix_90(txt):\n",
    "    txt_matrix = [[s for s in str] for str in txt.splitlines()]\n",
    "    # print(txt_matrix)\n",
    "    mat_rot90 = np.rot90(np.array(txt_matrix)).tolist()\n",
    "    # print(mat_rot90)\n",
    "    str_mat_rot90 = ''.join([''.join(row) + '\\n' for row in mat_rot90])\n",
    "    # print(str_mat_rot90)\n",
    "    return str_mat_rot90\n",
    "    # print(count_XMAS(str_mat_rot90))\n",
    "    # print(count_XMAS(str_mat_rot90))\n",
    "\n",
    "# author: Arkistarvh Kltzuonstev\n",
    "# https://stackoverflow.com/questions/6313308/get-all-the-diagonals-in-a-matrix-list-of-lists-in-python\n",
    "def rotate_matrix_45_left(txt):\n",
    "    txt_matrix = [[s for s in str] for str in txt.splitlines()]\n",
    "    matrix = np.array(txt_matrix)\n",
    "    matrix = np.flipud(matrix)\n",
    "    a = matrix.shape[0]\n",
    "    list_ = [np.diag(matrix, k=i).tolist() for i in range(-a+1,a)]\n",
    "    str_list_ = ''.join([''.join(row) + '\\n' for row in list_])\n",
    "    # print(str_list_)\n",
    "    return str_list_\n",
    "\n",
    "def rotate_matrix_45_right(txt):\n",
    "    txt_matrix = [[s for s in str] for str in txt.splitlines()]\n",
    "    matrix = np.array(txt_matrix)\n",
    "    matrix = np.flipud(matrix)\n",
    "    matrix = np.fliplr(matrix)\n",
    "    a = matrix.shape[0]\n",
    "    list_ = [np.diag(matrix, k=i).tolist() for i in range(-a+1,a)]\n",
    "    str_list_ = ''.join([''.join(row) + '\\n' for row in list_])\n",
    "    # print(str_list_)\n",
    "    return str_list_\n",
    "\n",
    "def word_search_counter(txt):\n",
    "    counter = 0    \n",
    "    counter += count_XMAS(txt)\n",
    "    counter += count_XMAS(rotate_matrix_90(txt))\n",
    "    counter += count_XMAS(rotate_matrix_45_left(txt))\n",
    "    counter += count_XMAS(rotate_matrix_45_right(txt))\n",
    "    return counter\n",
    "\n",
    "print(word_search_counter(test_input))\n",
    "print(word_search_counter(input))"
   ]
  },
  {
   "cell_type": "markdown",
   "metadata": {},
   "source": [
    "So at this point I'm pretty happy with my silly approach. AND THEN COMES PART 2"
   ]
  },
  {
   "cell_type": "code",
   "execution_count": 22,
   "metadata": {},
   "outputs": [
    {
     "name": "stdout",
     "output_type": "stream",
     "text": [
      "9\n",
      "1866\n"
     ]
    }
   ],
   "source": [
    "def find_mas(txt):\n",
    "    txt_matrix = [[s for s in str] for str in txt.splitlines()]\n",
    "    counter=0\n",
    "    for i ,row in enumerate(txt_matrix):\n",
    "        for j, c in enumerate(txt_matrix[i]):\n",
    "            if 0 < i < len(txt_matrix)-1 and 0 < j < len(txt_matrix[i])-1:\n",
    "                # print(txt_matrix[i][j])\n",
    "                if (txt_matrix[i][j] == 'A'):\n",
    "                    diag1 = [txt_matrix[i-1][j-1],txt_matrix[i+1][j+1]]\n",
    "                    diag2 = [txt_matrix[i-1][j+1],txt_matrix[i+1][j-1]]\n",
    "                    if (check_mas(diag1) and check_mas(diag2)): counter+=1\n",
    "    return counter\n",
    "\n",
    "def check_mas(cs):\n",
    "    return any([c=='S' for c in cs]) and any([c=='M' for c in cs])\n",
    "\n",
    "print(find_mas(test_input))\n",
    "print(find_mas(input))"
   ]
  },
  {
   "cell_type": "markdown",
   "metadata": {},
   "source": [
    "Oh ok. It wasn't too tough but honestly I probably could've done this in the start...?\n",
    "\n",
    "takeaways:\n",
    "- STOP RELYING ON REGEX?\n",
    "- idk I just don't like iterative loops at 5 in the morning"
   ]
  }
 ],
 "metadata": {
  "kernelspec": {
   "display_name": "base",
   "language": "python",
   "name": "python3"
  },
  "language_info": {
   "codemirror_mode": {
    "name": "ipython",
    "version": 3
   },
   "file_extension": ".py",
   "mimetype": "text/x-python",
   "name": "python",
   "nbconvert_exporter": "python",
   "pygments_lexer": "ipython3",
   "version": "3.11.7"
  }
 },
 "nbformat": 4,
 "nbformat_minor": 2
}
