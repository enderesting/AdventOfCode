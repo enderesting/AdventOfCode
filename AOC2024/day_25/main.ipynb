{
 "cells": [
  {
   "cell_type": "code",
   "execution_count": 2,
   "metadata": {},
   "outputs": [],
   "source": [
    "import re\n",
    "import numpy as np\n",
    "import heapq\n",
    "from functools import reduce,cache\n",
    "from operator import mul\n",
    "from bisect import insort\n",
    "from itertools import permutations,product\n",
    "from collections import deque,defaultdict,OrderedDict\n",
    "with open('input.txt', 'r') as file:\n",
    "    input = file.read()\n",
    "\n",
    "test_input = \"\"\"\\\n",
    "#####\n",
    ".####\n",
    ".####\n",
    ".####\n",
    ".#.#.\n",
    ".#...\n",
    ".....\n",
    "\n",
    "#####\n",
    "##.##\n",
    ".#.##\n",
    "...##\n",
    "...#.\n",
    "...#.\n",
    ".....\n",
    "\n",
    ".....\n",
    "#....\n",
    "#....\n",
    "#...#\n",
    "#.#.#\n",
    "#.###\n",
    "#####\n",
    "\n",
    ".....\n",
    ".....\n",
    "#.#..\n",
    "###..\n",
    "###.#\n",
    "###.#\n",
    "#####\n",
    "\n",
    ".....\n",
    ".....\n",
    ".....\n",
    "#....\n",
    "#.#..\n",
    "#.#.#\n",
    "#####\n",
    "\"\"\""
   ]
  },
  {
   "cell_type": "markdown",
   "metadata": {},
   "source": [
    "### Part 1\n",
    "- Real straightforward with some numpy grids. With some list comprehension this could be cleaner, but I was more worried about PART 2 OH NO"
   ]
  },
  {
   "cell_type": "code",
   "execution_count": 3,
   "metadata": {},
   "outputs": [
    {
     "name": "stdout",
     "output_type": "stream",
     "text": [
      "part 1: 2933\n"
     ]
    }
   ],
   "source": [
    "class LockSmith:\n",
    "    def __init__(self,txt):\n",
    "        blocks = txt.split(\"\\n\\n\")\n",
    "        self.locks,self.keys = [],[]\n",
    "        for block in blocks:\n",
    "            # print(f\"block: {block[0][0]}\")\n",
    "            block = [[s for s in line] for line in block.splitlines()]\n",
    "            if block[0][0] == '#': # lock\n",
    "                grid = np.flipud(np.rot90(np.array(block)))\n",
    "                heights = self.check_height(grid)\n",
    "                # print(heights)\n",
    "                self.locks.append(heights)\n",
    "            elif block[0][0] == '.': # key\n",
    "                grid = np.rot90(np.array(block),k=-1)\n",
    "                heights = self.check_height(grid)\n",
    "                # print(heights)\n",
    "                self.keys.append(heights)\n",
    "        combinations = list(product(self.locks,self.keys))\n",
    "        print(f\"part 1: {sum([self.check_fit(*c)for c in combinations])}\")\n",
    "\n",
    "\n",
    "    def check_height(self,a):\n",
    "        heights=[]\n",
    "        for line in a:\n",
    "            for i,v in enumerate(line):\n",
    "                if v == '.':\n",
    "                    heights.append(i-1)\n",
    "                    break\n",
    "        return heights\n",
    "    \n",
    "    def check_fit(self,lock,key):\n",
    "        for i in range(5):\n",
    "            if 5-lock[i]<key[i]: return False\n",
    "        return True\n",
    "\n",
    "\n",
    "res = LockSmith(input)"
   ]
  },
  {
   "cell_type": "markdown",
   "metadata": {},
   "source": [
    "### Part 2 & Takeaways\n",
    "Part 2 was just finishing everything before hand so I had to run to finish [yesterday's](/AOC2024/day_24/main.ipynb) part 2. I was worried I won't be able to bruteforce it but I did! It did feel like sprinting a marathon and boy am I glad to done it.\n",
    "\n",
    "This is my first time completing AOC and the day is just breaking right now. It was real tough and many times did I feel like I wasn't skilled enough to make it but eventually I did with some help! I feel like I learnt a lot and that's what matters.\n",
    "\n",
    "Happy holidays & see you next year!"
   ]
  }
 ],
 "metadata": {
  "kernelspec": {
   "display_name": "base",
   "language": "python",
   "name": "python3"
  },
  "language_info": {
   "codemirror_mode": {
    "name": "ipython",
    "version": 3
   },
   "file_extension": ".py",
   "mimetype": "text/x-python",
   "name": "python",
   "nbconvert_exporter": "python",
   "pygments_lexer": "ipython3",
   "version": "3.11.7"
  }
 },
 "nbformat": 4,
 "nbformat_minor": 2
}
